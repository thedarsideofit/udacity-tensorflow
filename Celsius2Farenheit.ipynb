{
  "nbformat": 4,
  "nbformat_minor": 0,
  "metadata": {
    "colab": {
      "name": "Celsius2Farenheit.ipynb",
      "version": "0.3.2",
      "provenance": [],
      "include_colab_link": true
    },
    "kernelspec": {
      "name": "python3",
      "display_name": "Python 3"
    }
  },
  "cells": [
    {
      "cell_type": "markdown",
      "metadata": {
        "id": "view-in-github",
        "colab_type": "text"
      },
      "source": [
        "<a href=\"https://colab.research.google.com/github/thedarsideofit/udacity-tensorflow/blob/master/Celsius2Farenheit.ipynb\" target=\"_parent\"><img src=\"https://colab.research.google.com/assets/colab-badge.svg\" alt=\"Open In Colab\"/></a>"
      ]
    },
    {
      "metadata": {
        "id": "_WqW2CHG6FiB",
        "colab_type": "text"
      },
      "cell_type": "markdown",
      "source": [
        "Importando dependencias\n"
      ]
    },
    {
      "metadata": {
        "id": "qTq9Vq8v5fQ9",
        "colab_type": "code",
        "colab": {
          "base_uri": "https://localhost:8080/",
          "height": 136
        },
        "outputId": "09df1bc9-4b35-4c8e-c2b1-08c22a755b98"
      },
      "cell_type": "code",
      "source": [
        "import tensorflow as tf\n",
        "tf.logging.set_verbosity(tf.logging.ERROR)\n",
        "\n",
        "import numpy as np\n",
        "\n",
        "celsius_q = np.array([-40,-10,0,8,15,22, 38], dtype= float)\n",
        "fahrenheit_a = np.array([-40,14,32,46,59,72,100], dtype= float)\n",
        "for i,c  in enumerate(celsius_q):\n",
        "  print(\"{} grados Celsius = {} grados en fahrenheit \". format(c,fahrenheit_a[i]))\n"
      ],
      "execution_count": 6,
      "outputs": [
        {
          "output_type": "stream",
          "text": [
            "-40.0 grados Celsius = -40.0 grados en fahrenheit \n",
            "-10.0 grados Celsius = 14.0 grados en fahrenheit \n",
            "0.0 grados Celsius = 32.0 grados en fahrenheit \n",
            "8.0 grados Celsius = 46.0 grados en fahrenheit \n",
            "15.0 grados Celsius = 59.0 grados en fahrenheit \n",
            "22.0 grados Celsius = 72.0 grados en fahrenheit \n",
            "38.0 grados Celsius = 100.0 grados en fahrenheit \n"
          ],
          "name": "stdout"
        }
      ]
    },
    {
      "metadata": {
        "id": "zYWxvary93_3",
        "colab_type": "text"
      },
      "cell_type": "markdown",
      "source": [
        "Creando una Capa (Layer) y ensamblando en un Modelo"
      ]
    },
    {
      "metadata": {
        "id": "ZuDrBiXj9743",
        "colab_type": "code",
        "colab": {}
      },
      "cell_type": "code",
      "source": [
        "onezero = tf.keras.layers.Dense(units= 1, input_shape= [1])\n",
        "model = tf.keras.Sequential([onezero])"
      ],
      "execution_count": 0,
      "outputs": []
    },
    {
      "metadata": {
        "id": "LWBQYnJWAH6S",
        "colab_type": "text"
      },
      "cell_type": "markdown",
      "source": [
        "Compilar modelo con funciones de perdida y optimizacion"
      ]
    },
    {
      "metadata": {
        "id": "kZVIbieUAjey",
        "colab_type": "code",
        "colab": {}
      },
      "cell_type": "code",
      "source": [
        "model.compile(loss = 'mean_squared_error', optimizer = tf.keras.optimizers.Adam(0.1))"
      ],
      "execution_count": 0,
      "outputs": []
    },
    {
      "metadata": {
        "id": "273fuZdbCGp3",
        "colab_type": "text"
      },
      "cell_type": "markdown",
      "source": [
        "Entranando al modelo"
      ]
    },
    {
      "metadata": {
        "id": "377nQ_TECKIm",
        "colab_type": "code",
        "colab": {
          "base_uri": "https://localhost:8080/",
          "height": 34
        },
        "outputId": "0c83692e-ba61-47bb-c39e-3a07babf2235"
      },
      "cell_type": "code",
      "source": [
        "history = model.fit(celsius_q, fahrenheit_a, epochs = 500, verbose= False)\n",
        "print('Entrenamiento del modelo finalizado')"
      ],
      "execution_count": 17,
      "outputs": [
        {
          "output_type": "stream",
          "text": [
            "Entrenamiento del modelo finalizado\n"
          ],
          "name": "stdout"
        }
      ]
    },
    {
      "metadata": {
        "id": "LroI1yihE5Kd",
        "colab_type": "text"
      },
      "cell_type": "markdown",
      "source": [
        "Visualizando Estadisticas de Entrenamiento"
      ]
    },
    {
      "metadata": {
        "id": "21BSxct_E8O-",
        "colab_type": "code",
        "colab": {
          "base_uri": "https://localhost:8080/",
          "height": 378
        },
        "outputId": "9ff0d512-2d50-4bf8-c6d2-3bc468337c3d"
      },
      "cell_type": "code",
      "source": [
        "import matplotlib.pyplot as plt\n",
        "\n",
        "plt.xlabel('Num de Corrida')\n",
        "plt.ylabel('Mag de Error')\n",
        "plt.plot(history.history['loss'])\n"
      ],
      "execution_count": 19,
      "outputs": [
        {
          "output_type": "execute_result",
          "data": {
            "text/plain": [
              "[<matplotlib.lines.Line2D at 0x7f76a47616d8>]"
            ]
          },
          "metadata": {
            "tags": []
          },
          "execution_count": 19
        },
        {
          "output_type": "display_data",
          "data": {
            "image/png": "[encoded data removed]",
            "text/plain": [
              "<Figure size 576x396 with 1 Axes>"
            ]
          },
          "metadata": {
            "tags": []
          }
        }
      ]
    },
    {
      "metadata": {
        "id": "lyTqy4sgF5rH",
        "colab_type": "text"
      },
      "cell_type": "markdown",
      "source": [
        "Probando nuestro modelo la formula de conversion es  **F = C*1.8+32**"
      ]
    },
    {
      "metadata": {
        "id": "7y89D9EyF78e",
        "colab_type": "code",
        "colab": {
          "base_uri": "https://localhost:8080/",
          "height": 34
        },
        "outputId": "90b363e7-f15c-4857-b8f4-34aa70ab621c"
      },
      "cell_type": "code",
      "source": [
        "print(model.predict([100.0]))"
      ],
      "execution_count": 20,
      "outputs": [
        {
          "output_type": "stream",
          "text": [
            "[[211.74402]]\n"
          ],
          "name": "stdout"
        }
      ]
    },
    {
      "metadata": {
        "id": "wc_IFbf8Hhq2",
        "colab_type": "text"
      },
      "cell_type": "markdown",
      "source": [
        "Observando los pesos finales de nuestra capa interna si se fijan uno es muy cercano a 1.8 y el otro a 32"
      ]
    },
    {
      "metadata": {
        "id": "GgjBHni_Hpv4",
        "colab_type": "code",
        "colab": {
          "base_uri": "https://localhost:8080/",
          "height": 34
        },
        "outputId": "562a695f-6dec-4abb-daa8-51444b1f333e"
      },
      "cell_type": "code",
      "source": [
        "print('Estos son las variables de las capas: {}'.format(onezero.get_weights()))"
      ],
      "execution_count": 22,
      "outputs": [
        {
          "output_type": "stream",
          "text": [
            "Estos son las variables de las capas: [array([[1.7981349]], dtype=float32), array([31.93053], dtype=float32)]\n"
          ],
          "name": "stdout"
        }
      ]
    },
    {
      "metadata": {
        "id": "qqJSyjIYKWB2",
        "colab_type": "text"
      },
      "cell_type": "markdown",
      "source": [
        "Probando con mas capas"
      ]
    },
    {
      "metadata": {
        "id": "PDMiNfDkKiZm",
        "colab_type": "code",
        "colab": {}
      },
      "cell_type": "code",
      "source": [
        "onzero = tf.keras.layers.Dense(units= 4, input_shape= [1])\n",
        "oneone = tf.keras.layers.Dense(units= 4)\n",
        "onetwo = tf.keras.layers.Dense(units= 1)\n",
        "\n",
        "model = tf.keras.Sequential([onezero, oneone, onetwo])\n",
        "model.compile(loss = 'mean_squared_error', optimizer = tf.keras.optimizers.Adam(0.1))\n",
        "history = model.fit(celsius_q, fahrenheit_a, epochs = 500, verbose= False)\n",
        "print('Entrenamiento del modelo finalizado')\n",
        "\n",
        "print(model.predict([100.0]))"
      ],
      "execution_count": 0,
      "outputs": []
    },
    {
      "metadata": {
        "id": "mPOCTVzuOatd",
        "colab_type": "code",
        "colab": {}
      },
      "cell_type": "code",
      "source": [
        "\n",
        "plt.xlabel('Num de Corrida')\n",
        "plt.ylabel('Mag de Error')\n",
        "plt.plot(history.history['loss'])"
      ],
      "execution_count": 0,
      "outputs": []
    },
    {
      "metadata": {
        "id": "3-0kKfCqOxHF",
        "colab_type": "text"
      },
      "cell_type": "markdown",
      "source": [
        "Al revisar los pesos de las neuronas observamos que la agregar capas se incrementa la complejidad y  ya no existen valores similares a 1.8 y 32"
      ]
    },
    {
      "metadata": {
        "id": "KxrE7Sn1OefV",
        "colab_type": "code",
        "colab": {
          "base_uri": "https://localhost:8080/",
          "height": 136
        },
        "outputId": "25f3674f-9ffa-4d8d-af7c-ddb73755f3f1"
      },
      "cell_type": "code",
      "source": [
        "print('Estos son las variables de las capa 10: {}'.format(onezero.get_weights()))\n",
        "print('Estos son las variables de las capa 11: {}'.format(oneone.get_weights()))\n",
        "print('Estos son las variables de las capa 12: {}'.format(onetwo.get_weights()))"
      ],
      "execution_count": 26,
      "outputs": [
        {
          "output_type": "stream",
          "text": [
            "Estos son las variables de las capa 10: [array([[1.6057816]], dtype=float32), array([28.420115], dtype=float32)]\n",
            "Estos son las variables de las capa 11: [array([[ 0.04374631, -0.93778867,  0.2108961 ,  0.17643562]],\n",
            "      dtype=float32), array([-0.3936935 , -0.02977885,  0.00697951, -0.06786563], dtype=float32)]\n",
            "Estos son las variables de las capa 12: [array([[-0.00265146],\n",
            "       [-1.0273557 ],\n",
            "       [ 0.5350626 ],\n",
            "       [ 0.24656637]], dtype=float32), array([0.11267595], dtype=float32)]\n"
          ],
          "name": "stdout"
        }
      ]
    }
  ]
}